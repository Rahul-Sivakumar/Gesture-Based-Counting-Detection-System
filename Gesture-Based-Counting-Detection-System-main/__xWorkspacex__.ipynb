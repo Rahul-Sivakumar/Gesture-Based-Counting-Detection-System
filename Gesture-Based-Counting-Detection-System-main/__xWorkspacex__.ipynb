{
 "cells": [
  {
   "cell_type": "code",
   "execution_count": 1,
   "id": "fd0cc0c2",
   "metadata": {},
   "outputs": [],
   "source": [
    "#pip install deepface"
   ]
  },
  {
   "cell_type": "code",
   "execution_count": 1,
   "id": "21f5b2b4",
   "metadata": {},
   "outputs": [],
   "source": [
    "import cv2"
   ]
  },
  {
   "cell_type": "code",
   "execution_count": 12,
   "id": "04641388",
   "metadata": {},
   "outputs": [],
   "source": [
    "import cv2\n",
    "import numpy as np\n",
    "from sklearn.metrics import pairwise\n",
    "bck=None\n",
    "acc_weight=0.5\n",
    "roi_top=20\n",
    "roi_bot=200\n",
    "roi_rig=400\n",
    "roi_left=700"
   ]
  },
  {
   "cell_type": "code",
   "execution_count": 13,
   "id": "da5b3414",
   "metadata": {},
   "outputs": [],
   "source": [
    "def calc(f,acc):\n",
    "    global bck\n",
    "    if bck is None:\n",
    "        bck=f.copy().astype('float')\n",
    "        return None\n",
    "    cv2.accumulateWeighted(f,bck,acc)\n",
    "def seg(f,threshold=25):\n",
    "    dif=cv2.absdiff(bck.astype('uint8'),f)\n",
    "    r,thresh=cv2.threshold(dif,threshold,255,cv2.THRESH_BINARY)\n",
    "    contours,hier=cv2.findContours(thresh.copy(),cv2.RETR_EXTERNAL,cv2.CHAIN_APPROX_SIMPLE)\n",
    "    if len(contours)==0:\n",
    "        return None\n",
    "    else:\n",
    "        hand_seg=max(contours,key=cv2.contourArea)\n",
    "        return (thresh,hand_seg)"
   ]
  },
  {
   "cell_type": "code",
   "execution_count": 14,
   "id": "c847bc5f",
   "metadata": {},
   "outputs": [],
   "source": [
    "def fingers(thresh,hand_seg):\n",
    "    conv_hull=cv2.convexHull(hand_seg)\n",
    "    top=tuple(conv_hull[conv_hull[:,:,1].argmin()][0])\n",
    "    bot=tuple(conv_hull[conv_hull[:,:,1].argmax()][0])\n",
    "    left=tuple(conv_hull[conv_hull[:,:,0].argmin()][0])\n",
    "    right=tuple(conv_hull[conv_hull[:,:,0].argmax()][0])\n",
    "    cX=(left[0]+right[0])//2\n",
    "    cY=(top[1]+bot[1])//2\n",
    "    #point1 = np.array([cX, cY]).reshape(1, -1)\n",
    "    #point2 = np.array([left, right, top, bot]).reshape(1, -1)\n",
    "    #dist= pairwise.euclidean_distances(point1, point2)[0, 0]\n",
    "    dist=pairwise.euclidean_distances(X=[(cX,cY)],Y=[left,right,top,bot])[0]\n",
    "    max_dist=dist.max()\n",
    "    r=int(0.7*max_dist)\n",
    "    c=(2*np.pi*r)\n",
    "    croi=np.zeros(thresh.shape[:2],dtype='uint8')\n",
    "    cv2.circle(croi,(cX,cY),r,255,10)\n",
    "    croi=cv2.bitwise_and(thresh,thresh,mask=croi)\n",
    "    contours,hier=cv2.findContours(croi.copy(),cv2.RETR_EXTERNAL,cv2.CHAIN_APPROX_NONE)\n",
    "    count=0\n",
    "    for i in contours:\n",
    "        (x,y,w,h)=cv2.boundingRect(i)\n",
    "        out=(cY+(cY*0.15))>(y+h)\n",
    "        limit=((c*0.15)>i.shape[0])\n",
    "        if out and limit:\n",
    "            count+=1\n",
    "    return count\n"
   ]
  },
  {
   "cell_type": "code",
   "execution_count": 15,
   "id": "bd642f40",
   "metadata": {},
   "outputs": [],
   "source": [
    "cam=cv2.VideoCapture(0)\n",
    "numf=0\n",
    "while True:\n",
    "    r,f=cam.read()\n",
    "    f_copy=f.copy()\n",
    "    roi=f[roi_top:roi_bot,roi_rig:roi_left]\n",
    "    gray=cv2.cvtColor(roi,cv2.COLOR_BGR2GRAY)\n",
    "    gray=cv2.GaussianBlur(gray,(7,7),0)\n",
    "    if numf<60:\n",
    "        calc(gray,acc_weight)\n",
    "        if numf<=59:\n",
    "            cv2.putText(f_copy,'WAIT... LOADING',(200,200),cv2.FONT_HERSHEY_SIMPLEX,1,(0,0,255),2)\n",
    "            cv2.imshow('Finger Count',f_copy)\n",
    "    else:\n",
    "        hand=seg(gray)\n",
    "        if hand is not None:\n",
    "            thresh,hand_seg=hand\n",
    "            cv2.drawContours(f_copy,[hand_seg+(roi_rig,roi_top)],-1,(255,0,0),5)\n",
    "            count=fingers(thresh,hand_seg)\n",
    "            cv2.putText(f_copy,str(count),(70,50),cv2.FONT_HERSHEY_SIMPLEX,1,(0,255,0),3)\n",
    "            cv2.imshow('Threshold',thresh)\n",
    "    cv2.rectangle(f_copy,(roi_left,roi_top),(roi_rig,roi_bot),(0,0,255),5)\n",
    "    numf+=1\n",
    "    cv2.imshow('Finger Count',f_copy)\n",
    "    k=cv2.waitKey(1) & 0xFF\n",
    "    if k==27:\n",
    "        break\n",
    "cam.release()\n",
    "cv2.destroyAllWindows()\n",
    "        "
   ]
  },
  {
   "cell_type": "code",
   "execution_count": null,
   "id": "07c84b16",
   "metadata": {},
   "outputs": [],
   "source": []
  },
  {
   "cell_type": "code",
   "execution_count": null,
   "id": "399e5f99",
   "metadata": {},
   "outputs": [],
   "source": []
  }
 ],
 "metadata": {
  "kernelspec": {
   "display_name": "Python 3 (ipykernel)",
   "language": "python",
   "name": "python3"
  },
  "language_info": {
   "codemirror_mode": {
    "name": "ipython",
    "version": 3
   },
   "file_extension": ".py",
   "mimetype": "text/x-python",
   "name": "python",
   "nbconvert_exporter": "python",
   "pygments_lexer": "ipython3",
   "version": "3.9.7"
  }
 },
 "nbformat": 4,
 "nbformat_minor": 5
}
